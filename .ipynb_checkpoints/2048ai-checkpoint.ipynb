{
 "cells": [
  {
   "cell_type": "code",
   "execution_count": 12,
   "metadata": {},
   "outputs": [],
   "source": [
    "import tensorflow as tf\n",
    "import pandas as pd\n",
    "import numpy as np\n",
    "from selenium import webdriver\n",
    "from PIL import Image\n",
    "from matplotlib.pyplot import imshow"
   ]
  },
  {
   "cell_type": "code",
   "execution_count": 423,
   "metadata": {},
   "outputs": [],
   "source": [
    "DRIVER = 'chromedriver'\n",
    "driver = webdriver.Chrome(DRIVER)\n",
    "driver.get('https://play2048.co/')"
   ]
  },
  {
   "cell_type": "code",
   "execution_count": 341,
   "metadata": {},
   "outputs": [
    {
     "data": {
      "text/plain": [
       "True"
      ]
     },
     "execution_count": 341,
     "metadata": {},
     "output_type": "execute_result"
    }
   ],
   "source": [
    "driver.save_screenshot('./test.png')"
   ]
  },
  {
   "cell_type": "code",
   "execution_count": 386,
   "metadata": {},
   "outputs": [
    {
     "data": {
      "text/plain": [
       "<matplotlib.image.AxesImage at 0x1d763835d68>"
      ]
     },
     "execution_count": 386,
     "metadata": {},
     "output_type": "execute_result"
    },
    {
     "data": {
      "image/png": "[encoded data removed]",
      "text/plain": [
       "<Figure size 432x288 with 1 Axes>"
      ]
     },
     "metadata": {},
     "output_type": "display_data"
    }
   ],
   "source": [
    "img = Image.open('./test.png')\n",
    "imshow(np.asarray(img))"
   ]
  },
  {
   "cell_type": "code",
   "execution_count": 343,
   "metadata": {},
   "outputs": [],
   "source": [
    "#create exception to use to break out of searching loops early\n",
    "class Break(Exception):pass"
   ]
  },
  {
   "cell_type": "code",
   "execution_count": 344,
   "metadata": {},
   "outputs": [
    {
     "data": {
      "text/plain": [
       "array([250, 248, 239, 255], dtype=uint8)"
      ]
     },
     "execution_count": 344,
     "metadata": {},
     "output_type": "execute_result"
    }
   ],
   "source": [
    "np.array(img)[0,0]"
   ]
  },
  {
   "cell_type": "code",
   "execution_count": 370,
   "metadata": {},
   "outputs": [],
   "source": [
    "def crop_img(img):\n",
    "    #bounding box coords\n",
    "    top = 0\n",
    "    left = 0\n",
    "    bottom = 0\n",
    "    right = 0\n",
    "\n",
    "    #get pixel data and search for color of bounding box\n",
    "    bounding = np.array(img)\n",
    "    try:\n",
    "        for row in range(0, len(bounding), 2):\n",
    "            for col in range(0, len(bounding[row]), 2):\n",
    "                if np.array_equal(bounding[row, col], np.array([187, 173, 160, 255])):\n",
    "                    top = row\n",
    "                    left = col\n",
    "                    raise Break\n",
    "    except Break:\n",
    "        pass\n",
    "\n",
    "    try:\n",
    "        for row in range(len(bounding) - 1, -1, -2):\n",
    "            for col in range(len(bounding[row]) - 1, -1, -2):\n",
    "                if np.array_equal(bounding[row, col], np.array([187, 173, 160, 255])):\n",
    "                    bottom = row\n",
    "                    right = col\n",
    "                    raise Break\n",
    "    except Break:\n",
    "        pass\n",
    "    bounding_box = (left, top, right, bottom)\n",
    "    img = img.crop(bounding_box)\n",
    "    img.save('./test.png')\n",
    "    return img"
   ]
  },
  {
   "cell_type": "code",
   "execution_count": 346,
   "metadata": {},
   "outputs": [
    {
     "data": {
      "image/png": "[encoded data removed]",
      "text/plain": [
       "<Figure size 432x288 with 1 Axes>"
      ]
     },
     "metadata": {},
     "output_type": "display_data"
    }
   ],
   "source": [
    "img = img.crop(bounding_box)\n",
    "imshow(np.asarray(img))\n",
    "img.save('./test.png')"
   ]
  },
  {
   "cell_type": "code",
   "execution_count": 347,
   "metadata": {},
   "outputs": [],
   "source": [
    "import boto3"
   ]
  },
  {
   "cell_type": "code",
   "execution_count": 362,
   "metadata": {},
   "outputs": [],
   "source": [
    "def send_img():\n",
    "    s3 = boto3.client('s3')\n",
    "    bucket = '2048images'\n",
    "    file_name = './test.png'\n",
    "    key_name = 'test.png'\n",
    "    s3.upload_file(file_name, bucket, key_name)"
   ]
  },
  {
   "cell_type": "code",
   "execution_count": 421,
   "metadata": {},
   "outputs": [],
   "source": [
    "def get_values(img):\n",
    "    rekognition = boto3.client('rekognition', region_name = 'us-east-1')\n",
    "    response = rekognition.detect_text(Image={'S3Object':{'Bucket':bucket, 'Name':'test.png'}})\n",
    "    readValues = []\n",
    "    textDetections = response['TextDetections']\n",
    "    for text in textDetections:\n",
    "        readValues.append([text['DetectedText'], text['Geometry']['BoundingBox']['Top']])\n",
    "    raw = readValues\n",
    "    #remove duplicates\n",
    "    for i in range(0, len(readValues)):\n",
    "        if i >= len(readValues):\n",
    "            break\n",
    "        if ' ' in readValues[i][0]:\n",
    "            del readValues[i]\n",
    "            continue\n",
    "        for j in range(i+1, len(readValues)):\n",
    "            if j >= len(readValues):\n",
    "                break\n",
    "            if readValues[i][1] == readValues[j][1]:\n",
    "                del readValues[j]\n",
    "                \n",
    "    #get pixel data and search for color of bounding box\n",
    "    values = [0]*16\n",
    "    index = 0\n",
    "    bounding = np.array(img)\n",
    "    for row in range(0, 4):\n",
    "        for col in range(0, 4):\n",
    "            if np.array_equal(bounding[row*160+30, col*160+30],\n",
    "                              np.array([205, 193, 180, 255])):\n",
    "                values[index] = 0\n",
    "            else:\n",
    "                #TODO: add in Rekognition\n",
    "                values[index] = int(readValues[0][0])\n",
    "                del readValues[0]\n",
    "            index += 1\n",
    "    return values"
   ]
  },
  {
   "cell_type": "markdown",
   "metadata": {},
   "source": [
    "# Get an array of box values"
   ]
  },
  {
   "cell_type": "code",
   "execution_count": 406,
   "metadata": {},
   "outputs": [
    {
     "ename": "IndexError",
     "evalue": "list index out of range",
     "output_type": "error",
     "traceback": [
      "\u001b[1;31m---------------------------------------------------------------------------\u001b[0m",
      "\u001b[1;31mIndexError\u001b[0m                                Traceback (most recent call last)",
      "\u001b[1;32m<ipython-input-406-66ce73997a0f>\u001b[0m in \u001b[0;36m<module>\u001b[1;34m()\u001b[0m\n\u001b[0;32m     10\u001b[0m         \u001b[1;32melse\u001b[0m\u001b[1;33m:\u001b[0m\u001b[1;33m\u001b[0m\u001b[0m\n\u001b[0;32m     11\u001b[0m             \u001b[1;31m#TODO: add in Rekognition\u001b[0m\u001b[1;33m\u001b[0m\u001b[1;33m\u001b[0m\u001b[0m\n\u001b[1;32m---> 12\u001b[1;33m             \u001b[0mvalues\u001b[0m\u001b[1;33m[\u001b[0m\u001b[0mindex\u001b[0m\u001b[1;33m]\u001b[0m \u001b[1;33m=\u001b[0m \u001b[0mint\u001b[0m\u001b[1;33m(\u001b[0m\u001b[0mreadValues\u001b[0m\u001b[1;33m[\u001b[0m\u001b[1;36m0\u001b[0m\u001b[1;33m]\u001b[0m\u001b[1;33m[\u001b[0m\u001b[1;36m0\u001b[0m\u001b[1;33m]\u001b[0m\u001b[1;33m)\u001b[0m\u001b[1;33m\u001b[0m\u001b[0m\n\u001b[0m\u001b[0;32m     13\u001b[0m             \u001b[1;32mdel\u001b[0m \u001b[0mreadValues\u001b[0m\u001b[1;33m[\u001b[0m\u001b[1;36m0\u001b[0m\u001b[1;33m]\u001b[0m\u001b[1;33m\u001b[0m\u001b[0m\n\u001b[0;32m     14\u001b[0m         \u001b[0mindex\u001b[0m \u001b[1;33m+=\u001b[0m \u001b[1;36m1\u001b[0m\u001b[1;33m\u001b[0m\u001b[0m\n",
      "\u001b[1;31mIndexError\u001b[0m: list index out of range"
     ]
    }
   ],
   "source": [
    "#get pixel data and search for color of bounding box\n",
    "values = [0]*16\n",
    "index = 0\n",
    "bounding = np.array(img)\n",
    "for row in range(0, 4):\n",
    "    for col in range(0, 4):\n",
    "        if np.array_equal(bounding[row*160+30, col*160+30],\n",
    "                          np.array([205, 193, 180, 255])):\n",
    "            values[index] = 0\n",
    "        else:\n",
    "            #TODO: add in Rekognition\n",
    "            values[index] = int(readValues[0][0])\n",
    "            del readValues[0]\n",
    "        index += 1 "
   ]
  },
  {
   "cell_type": "code",
   "execution_count": 353,
   "metadata": {},
   "outputs": [
    {
     "data": {
      "text/plain": [
       "[0, 0, 0, 0, 0, 0, 0, 2, 0, 0, 0, 0, 2, 0, 4, 2]"
      ]
     },
     "execution_count": 353,
     "metadata": {},
     "output_type": "execute_result"
    }
   ],
   "source": [
    "values"
   ]
  },
  {
   "cell_type": "code",
   "execution_count": 365,
   "metadata": {},
   "outputs": [],
   "source": [
    "def score_state(state):\n",
    "    nonZeros = 0\n",
    "    for num in state:\n",
    "        if num != 0:\n",
    "            nonZeros += 1\n",
    "    score = sum(state)/nonZeros\n",
    "    return score"
   ]
  },
  {
   "cell_type": "code",
   "execution_count": 372,
   "metadata": {},
   "outputs": [],
   "source": [
    "def get_move(values):\n",
    "    lstate = values.copy()\n",
    "    changing = True\n",
    "    while changing:\n",
    "        changing = False\n",
    "        for i in range(0, len(values) -1):\n",
    "            if i in [3,7,11,15]:\n",
    "                pass\n",
    "            elif lstate[i] == 0 and lstate[i+1] != 0:\n",
    "                lstate[i] = lstate[i + 1]\n",
    "                lstate[i + 1] = 0\n",
    "                changing = True\n",
    "            elif lstate[i] != 0 and lstate[i+1] == lstate[i]:\n",
    "                lstate[i] *= 2\n",
    "                lstate[i+1] = 0\n",
    "                changing = True\n",
    "\n",
    "    rstate = values.copy()\n",
    "    changing = True\n",
    "    while changing:\n",
    "        changing = False\n",
    "        for i in range(len(values)-1, -1, -1):\n",
    "            if i % 4 == 0:\n",
    "                pass\n",
    "            elif rstate[i] == 0 and rstate[i-1] != 0:\n",
    "                rstate[i] = rstate[i-1]\n",
    "                rstate[i-1] = 0\n",
    "                changing = True\n",
    "            elif rstate[i] != 0 and rstate[i-1] == rstate[i]:\n",
    "                rstate[i] *= 2\n",
    "                rstate[i-1] = 0\n",
    "                changing = True\n",
    "    ustate = values.copy()\n",
    "    changing = True\n",
    "    while changing:\n",
    "        changing = False\n",
    "        for i in range(0, 4):\n",
    "            for j in range(0,3):\n",
    "                if ustate[j*4+i] == 0 and ustate[(j+1)*4+i] != 0:\n",
    "                    ustate[(j)*4+i] = ustate[(j+1)*4+i]\n",
    "                    ustate[(j+1)*4+i] = 0\n",
    "                    changing = True\n",
    "                elif ustate[j*4+i] != 0 and ustate[(j+1)*4+i] == ustate[j*4+i]:\n",
    "                    print(j*4+i)\n",
    "                    ustate[(j)*4+i] *= 2\n",
    "                    ustate[(j+1)*4+i] = 0\n",
    "                    changing = True\n",
    "    dstate = values.copy()\n",
    "    changing = True\n",
    "    while changing:\n",
    "        changing = False\n",
    "        for i in range(3, -1, -1):\n",
    "            for j in range(3,0,-1):\n",
    "                if dstate[j*4+i] == 0 and dstate[(j-1)*4+i] != 0:\n",
    "                    dstate[(j)*4+i] = dstate[(j-1)*4+i]\n",
    "                    dstate[(j-1)*4+i] = 0\n",
    "                    changing = True\n",
    "                elif dstate[j*4+i] != 0 and dstate[(j-1)*4+i] == dstate[j*4+i]:\n",
    "                    dstate[(j)*4+i] *= 2\n",
    "                    dstate[(j-1)*4+i] = 0\n",
    "                    changing = True\n",
    "    scores = [score_state(x) for x in [lstate, rstate, ustate, dstate]]\n",
    "    return np.argmax(scores)"
   ]
  },
  {
   "cell_type": "code",
   "execution_count": 359,
   "metadata": {},
   "outputs": [
    {
     "name": "stdout",
     "output_type": "stream",
     "text": [
      "3.3333333333333335\n"
     ]
    }
   ],
   "source": []
  },
  {
   "cell_type": "code",
   "execution_count": 239,
   "metadata": {},
   "outputs": [],
   "source": [
    "e = driver.find_element_by_tag_name('body')\n",
    "e.send_keys(u'\\ue015')"
   ]
  },
  {
   "cell_type": "code",
   "execution_count": 424,
   "metadata": {},
   "outputs": [
    {
     "name": "stdout",
     "output_type": "stream",
     "text": [
      "(30, 30)\n",
      "(30, 190)\n",
      "(30, 350)\n"
     ]
    },
    {
     "ename": "IndexError",
     "evalue": "list index out of range",
     "output_type": "error",
     "traceback": [
      "\u001b[1;31m---------------------------------------------------------------------------\u001b[0m",
      "\u001b[1;31mIndexError\u001b[0m                                Traceback (most recent call last)",
      "\u001b[1;32m<ipython-input-424-624346d8983d>\u001b[0m in \u001b[0;36m<module>\u001b[1;34m()\u001b[0m\n\u001b[0;32m      4\u001b[0m     \u001b[0mcrop_img\u001b[0m\u001b[1;33m(\u001b[0m\u001b[0mimg\u001b[0m\u001b[1;33m)\u001b[0m\u001b[1;33m\u001b[0m\u001b[0m\n\u001b[0;32m      5\u001b[0m     \u001b[0msend_img\u001b[0m\u001b[1;33m(\u001b[0m\u001b[1;33m)\u001b[0m\u001b[1;33m\u001b[0m\u001b[0m\n\u001b[1;32m----> 6\u001b[1;33m     \u001b[0mvalues\u001b[0m \u001b[1;33m=\u001b[0m \u001b[0mget_values\u001b[0m\u001b[1;33m(\u001b[0m\u001b[0mimg\u001b[0m\u001b[1;33m)\u001b[0m\u001b[1;33m\u001b[0m\u001b[0m\n\u001b[0m\u001b[0;32m      7\u001b[0m     \u001b[0mget_move\u001b[0m\u001b[1;33m(\u001b[0m\u001b[0mvalues\u001b[0m\u001b[1;33m)\u001b[0m\u001b[1;33m\u001b[0m\u001b[0m\n",
      "\u001b[1;32m<ipython-input-421-4f94ab6517c4>\u001b[0m in \u001b[0;36mget_values\u001b[1;34m(img)\u001b[0m\n\u001b[0;32m     32\u001b[0m                 \u001b[0mprint\u001b[0m\u001b[1;33m(\u001b[0m\u001b[1;33m(\u001b[0m\u001b[0mrow\u001b[0m\u001b[1;33m*\u001b[0m\u001b[1;36m160\u001b[0m\u001b[1;33m+\u001b[0m\u001b[1;36m30\u001b[0m\u001b[1;33m,\u001b[0m \u001b[0mcol\u001b[0m\u001b[1;33m*\u001b[0m\u001b[1;36m160\u001b[0m\u001b[1;33m+\u001b[0m\u001b[1;36m30\u001b[0m\u001b[1;33m)\u001b[0m\u001b[1;33m)\u001b[0m\u001b[1;33m\u001b[0m\u001b[0m\n\u001b[0;32m     33\u001b[0m                 \u001b[1;31m#TODO: add in Rekognition\u001b[0m\u001b[1;33m\u001b[0m\u001b[1;33m\u001b[0m\u001b[0m\n\u001b[1;32m---> 34\u001b[1;33m                 \u001b[0mvalues\u001b[0m\u001b[1;33m[\u001b[0m\u001b[0mindex\u001b[0m\u001b[1;33m]\u001b[0m \u001b[1;33m=\u001b[0m \u001b[0mint\u001b[0m\u001b[1;33m(\u001b[0m\u001b[0mreadValues\u001b[0m\u001b[1;33m[\u001b[0m\u001b[1;36m0\u001b[0m\u001b[1;33m]\u001b[0m\u001b[1;33m[\u001b[0m\u001b[1;36m0\u001b[0m\u001b[1;33m]\u001b[0m\u001b[1;33m)\u001b[0m\u001b[1;33m\u001b[0m\u001b[0m\n\u001b[0m\u001b[0;32m     35\u001b[0m                 \u001b[1;32mdel\u001b[0m \u001b[0mreadValues\u001b[0m\u001b[1;33m[\u001b[0m\u001b[1;36m0\u001b[0m\u001b[1;33m]\u001b[0m\u001b[1;33m\u001b[0m\u001b[0m\n\u001b[0;32m     36\u001b[0m             \u001b[0mindex\u001b[0m \u001b[1;33m+=\u001b[0m \u001b[1;36m1\u001b[0m\u001b[1;33m\u001b[0m\u001b[0m\n",
      "\u001b[1;31mIndexError\u001b[0m: list index out of range"
     ]
    }
   ],
   "source": [
    "for i in range(1):\n",
    "    driver.save_screenshot('./test.png')\n",
    "    img = Image.open('./test.png')\n",
    "    crop_img(img)\n",
    "    send_img()\n",
    "    values = get_values(img)\n",
    "    get_move(values)"
   ]
  },
  {
   "cell_type": "code",
   "execution_count": 410,
   "metadata": {},
   "outputs": [
    {
     "data": {
      "text/plain": [
       "[2, 2, 4, 2, 0, 0, 0, 0, 0, 0, 0, 0, 0, 0, 0, 0]"
      ]
     },
     "execution_count": 410,
     "metadata": {},
     "output_type": "execute_result"
    }
   ],
   "source": [
    "values"
   ]
  },
  {
   "cell_type": "code",
   "execution_count": null,
   "metadata": {},
   "outputs": [],
   "source": []
  }
 ],
 "metadata": {
  "kernelspec": {
   "display_name": "Python 3",
   "language": "python",
   "name": "python3"
  },
  "language_info": {
   "codemirror_mode": {
    "name": "ipython",
    "version": 3
   },
   "file_extension": ".py",
   "mimetype": "text/x-python",
   "name": "python",
   "nbconvert_exporter": "python",
   "pygments_lexer": "ipython3",
   "version": "3.5.5"
  }
 },
 "nbformat": 4,
 "nbformat_minor": 2
}
