{
 "cells": [
  {
   "cell_type": "code",
   "execution_count": 8,
   "metadata": {},
   "outputs": [],
   "source": [
    "import tensorflow as tf\n",
    "import numpy as np\n",
    "from selenium import webdriver\n",
    "import os"
   ]
  },
  {
   "cell_type": "code",
   "execution_count": 67,
   "metadata": {},
   "outputs": [],
   "source": [
    "DRIVER = 'geckodriver'\n",
    "driver = webdriver.Firefox()\n",
    "driver.implicitly_wait(3)\n",
    "driver.get('https://play2048.co')"
   ]
  },
  {
   "cell_type": "code",
   "execution_count": 55,
   "metadata": {},
   "outputs": [],
   "source": [
    "def get_board(driver):\n",
    "    tiles = driver.find_element_by_class_name('tile-container')\n",
    "    values = [0]*16\n",
    "    for tile in tiles.find_elements_by_tag_name('div'):\n",
    "        className = tile.get_attribute('class')\n",
    "        # lazy method of avoiding the tile-inner class\n",
    "        if len(className) > 20:\n",
    "            x = int(className[26]) - 1\n",
    "            y = int(className[28]) - 1\n",
    "            index = 4*y + x\n",
    "            values[index] = int(tile.text)\n",
    "    return values"
   ]
  },
  {
   "cell_type": "code",
   "execution_count": 344,
   "metadata": {},
   "outputs": [
    {
     "data": {
      "text/plain": [
       "array([250, 248, 239, 255], dtype=uint8)"
      ]
     },
     "execution_count": 344,
     "metadata": {},
     "output_type": "execute_result"
    }
   ],
   "source": [
    "np.array(img)[0,0]"
   ]
  },
  {
   "cell_type": "markdown",
   "metadata": {},
   "source": [
    "# Get an array of box values"
   ]
  },
  {
   "cell_type": "code",
   "execution_count": 406,
   "metadata": {},
   "outputs": [
    {
     "ename": "IndexError",
     "evalue": "list index out of range",
     "output_type": "error",
     "traceback": [
      "\u001b[1;31m---------------------------------------------------------------------------\u001b[0m",
      "\u001b[1;31mIndexError\u001b[0m                                Traceback (most recent call last)",
      "\u001b[1;32m<ipython-input-406-66ce73997a0f>\u001b[0m in \u001b[0;36m<module>\u001b[1;34m()\u001b[0m\n\u001b[0;32m     10\u001b[0m         \u001b[1;32melse\u001b[0m\u001b[1;33m:\u001b[0m\u001b[1;33m\u001b[0m\u001b[0m\n\u001b[0;32m     11\u001b[0m             \u001b[1;31m#TODO: add in Rekognition\u001b[0m\u001b[1;33m\u001b[0m\u001b[1;33m\u001b[0m\u001b[0m\n\u001b[1;32m---> 12\u001b[1;33m             \u001b[0mvalues\u001b[0m\u001b[1;33m[\u001b[0m\u001b[0mindex\u001b[0m\u001b[1;33m]\u001b[0m \u001b[1;33m=\u001b[0m \u001b[0mint\u001b[0m\u001b[1;33m(\u001b[0m\u001b[0mreadValues\u001b[0m\u001b[1;33m[\u001b[0m\u001b[1;36m0\u001b[0m\u001b[1;33m]\u001b[0m\u001b[1;33m[\u001b[0m\u001b[1;36m0\u001b[0m\u001b[1;33m]\u001b[0m\u001b[1;33m)\u001b[0m\u001b[1;33m\u001b[0m\u001b[0m\n\u001b[0m\u001b[0;32m     13\u001b[0m             \u001b[1;32mdel\u001b[0m \u001b[0mreadValues\u001b[0m\u001b[1;33m[\u001b[0m\u001b[1;36m0\u001b[0m\u001b[1;33m]\u001b[0m\u001b[1;33m\u001b[0m\u001b[0m\n\u001b[0;32m     14\u001b[0m         \u001b[0mindex\u001b[0m \u001b[1;33m+=\u001b[0m \u001b[1;36m1\u001b[0m\u001b[1;33m\u001b[0m\u001b[0m\n",
      "\u001b[1;31mIndexError\u001b[0m: list index out of range"
     ]
    }
   ],
   "source": [
    "#get pixel data and search for color of bounding box\n",
    "values = [0]*16\n",
    "index = 0\n",
    "bounding = np.array(img)\n",
    "for row in range(0, 4):\n",
    "    for col in range(0, 4):\n",
    "        if np.array_equal(bounding[row*160+30, col*160+30],\n",
    "                          np.array([205, 193, 180, 255])):\n",
    "            values[index] = 0\n",
    "        else:\n",
    "            #TODO: add in Rekognition\n",
    "            values[index] = int(readValues[0][0])\n",
    "            del readValues[0]\n",
    "        index += 1 "
   ]
  },
  {
   "cell_type": "code",
   "execution_count": 353,
   "metadata": {},
   "outputs": [
    {
     "data": {
      "text/plain": [
       "[0, 0, 0, 0, 0, 0, 0, 2, 0, 0, 0, 0, 2, 0, 4, 2]"
      ]
     },
     "execution_count": 353,
     "metadata": {},
     "output_type": "execute_result"
    }
   ],
   "source": [
    "values"
   ]
  },
  {
   "cell_type": "code",
   "execution_count": 48,
   "metadata": {},
   "outputs": [],
   "source": [
    "def score_state(state):\n",
    "    nonZeros = 0\n",
    "    for num in state:\n",
    "        if num != 0:\n",
    "            nonZeros += 1\n",
    "    score = sum(state)/nonZeros\n",
    "    return score"
   ]
  },
  {
   "cell_type": "code",
   "execution_count": 57,
   "metadata": {},
   "outputs": [],
   "source": [
    "def get_move(values):\n",
    "    lstate = values\n",
    "    changing = True\n",
    "    while changing:\n",
    "        changing = False\n",
    "        for i in range(0, len(values) -1):\n",
    "            if i in [3,7,11,15]:\n",
    "                pass\n",
    "            elif lstate[i] == 0 and lstate[i+1] != 0:\n",
    "                lstate[i] = lstate[i + 1]\n",
    "                lstate[i + 1] = 0\n",
    "                changing = True\n",
    "            elif lstate[i] != 0 and lstate[i+1] == lstate[i]:\n",
    "                lstate[i] *= 2\n",
    "                lstate[i+1] = 0\n",
    "                changing = True\n",
    "\n",
    "    rstate = values\n",
    "    changing = True\n",
    "    while changing:\n",
    "        changing = False\n",
    "        for i in range(len(values)-1, -1, -1):\n",
    "            if i % 4 == 0:\n",
    "                pass\n",
    "            elif rstate[i] == 0 and rstate[i-1] != 0:\n",
    "                rstate[i] = rstate[i-1]\n",
    "                rstate[i-1] = 0\n",
    "                changing = True\n",
    "            elif rstate[i] != 0 and rstate[i-1] == rstate[i]:\n",
    "                rstate[i] *= 2\n",
    "                rstate[i-1] = 0\n",
    "                changing = True\n",
    "    ustate = values\n",
    "    changing = True\n",
    "    while changing:\n",
    "        changing = False\n",
    "        for i in range(0, 4):\n",
    "            for j in range(0,3):\n",
    "                if ustate[j*4+i] == 0 and ustate[(j+1)*4+i] != 0:\n",
    "                    ustate[(j)*4+i] = ustate[(j+1)*4+i]\n",
    "                    ustate[(j+1)*4+i] = 0\n",
    "                    changing = True\n",
    "                elif ustate[j*4+i] != 0 and ustate[(j+1)*4+i] == ustate[j*4+i]:\n",
    "                    print(j*4+i)\n",
    "                    ustate[(j)*4+i] *= 2\n",
    "                    ustate[(j+1)*4+i] = 0\n",
    "                    changing = True\n",
    "    dstate = values\n",
    "    changing = True\n",
    "    while changing:\n",
    "        changing = False\n",
    "        for i in range(3, -1, -1):\n",
    "            for j in range(3,0,-1):\n",
    "                if dstate[j*4+i] == 0 and dstate[(j-1)*4+i] != 0:\n",
    "                    dstate[(j)*4+i] = dstate[(j-1)*4+i]\n",
    "                    dstate[(j-1)*4+i] = 0\n",
    "                    changing = True\n",
    "                elif dstate[j*4+i] != 0 and dstate[(j-1)*4+i] == dstate[j*4+i]:\n",
    "                    dstate[(j)*4+i] *= 2\n",
    "                    dstate[(j-1)*4+i] = 0\n",
    "                    changing = True\n",
    "    scores = [score_state(x) for x in [lstate, rstate, ustate, dstate]]\n",
    "    return np.argmax(scores)"
   ]
  },
  {
   "cell_type": "code",
   "execution_count": 72,
   "metadata": {},
   "outputs": [],
   "source": [
    "import time"
   ]
  },
  {
   "cell_type": "code",
   "execution_count": 53,
   "metadata": {},
   "outputs": [],
   "source": [
    "e.send_keys(u'\\ue015')"
   ]
  },
  {
   "cell_type": "code",
   "execution_count": 74,
   "metadata": {},
   "outputs": [
    {
     "name": "stdout",
     "output_type": "stream",
     "text": [
      "6\n",
      "7\n",
      "2\n",
      "6\n",
      "2\n",
      "6\n",
      "2\n",
      "2\n",
      "3\n",
      "6\n",
      "7\n",
      "2\n",
      "6\n",
      "7\n",
      "2\n",
      "6\n",
      "7\n",
      "2\n",
      "2\n",
      "10\n",
      "11\n",
      "10\n",
      "3\n",
      "6\n",
      "3\n",
      "7\n",
      "3\n",
      "3\n",
      "3\n",
      "3\n",
      "3\n",
      "3\n",
      "3\n",
      "3\n",
      "3\n",
      "3\n",
      "3\n"
     ]
    },
    {
     "ename": "KeyboardInterrupt",
     "evalue": "",
     "output_type": "error",
     "traceback": [
      "\u001b[1;31m---------------------------------------------------------------------------\u001b[0m",
      "\u001b[1;31mKeyboardInterrupt\u001b[0m                         Traceback (most recent call last)",
      "\u001b[1;32m<ipython-input-74-d1680515316e>\u001b[0m in \u001b[0;36m<module>\u001b[1;34m()\u001b[0m\n\u001b[0;32m     11\u001b[0m     \u001b[1;32melif\u001b[0m \u001b[0mmove\u001b[0m \u001b[1;33m==\u001b[0m \u001b[1;36m3\u001b[0m\u001b[1;33m:\u001b[0m\u001b[1;33m\u001b[0m\u001b[0m\n\u001b[0;32m     12\u001b[0m         \u001b[0me\u001b[0m\u001b[1;33m.\u001b[0m\u001b[0msend_keys\u001b[0m\u001b[1;33m(\u001b[0m\u001b[1;34mu'\\ue015'\u001b[0m\u001b[1;33m)\u001b[0m\u001b[1;33m\u001b[0m\u001b[0m\n\u001b[1;32m---> 13\u001b[1;33m     \u001b[0mtime\u001b[0m\u001b[1;33m.\u001b[0m\u001b[0msleep\u001b[0m\u001b[1;33m(\u001b[0m\u001b[1;36m.3\u001b[0m\u001b[1;33m)\u001b[0m\u001b[1;33m\u001b[0m\u001b[0m\n\u001b[0m",
      "\u001b[1;31mKeyboardInterrupt\u001b[0m: "
     ]
    }
   ],
   "source": [
    "e = driver.find_element_by_tag_name('body')\n",
    "for i in range(1000):\n",
    "    values = get_board(driver)\n",
    "    move = get_move(values)\n",
    "    if move == 0:\n",
    "        e.send_keys(u'\\ue012')\n",
    "    elif move == 1:\n",
    "        e.send_keys(u'\\ue014')\n",
    "    elif move == 2:\n",
    "        e.send_keys(u'\\ue013')\n",
    "    elif move == 3:\n",
    "        e.send_keys(u'\\ue015')\n",
    "    time.sleep(.3)\n"
   ]
  },
  {
   "cell_type": "code",
   "execution_count": 410,
   "metadata": {},
   "outputs": [
    {
     "data": {
      "text/plain": [
       "[2, 2, 4, 2, 0, 0, 0, 0, 0, 0, 0, 0, 0, 0, 0, 0]"
      ]
     },
     "execution_count": 410,
     "metadata": {},
     "output_type": "execute_result"
    }
   ],
   "source": []
  },
  {
   "cell_type": "code",
   "execution_count": null,
   "metadata": {},
   "outputs": [],
   "source": []
  }
 ],
 "metadata": {
  "kernelspec": {
   "display_name": "Python 3",
   "language": "python",
   "name": "python3"
  },
  "language_info": {
   "codemirror_mode": {
    "name": "ipython",
    "version": 3
   },
   "file_extension": ".py",
   "mimetype": "text/x-python",
   "name": "python",
   "nbconvert_exporter": "python",
   "pygments_lexer": "ipython3",
   "version": "3.5.5"
  }
 },
 "nbformat": 4,
 "nbformat_minor": 2
}
